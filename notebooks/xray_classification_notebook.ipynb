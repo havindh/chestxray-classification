{
 "cells": [
  {
   "cell_type": "markdown",
   "metadata": {},
   "source": [
    "# X-ray Classification with TorchXRayVision\n",
    "\n",
    "This notebook implements zero-shot classification on chest X-ray images using pretrained models from TorchXRayVision."
   ]
  },
  {
   "cell_type": "markdown",
   "metadata": {},
   "source": [
    "## Setup and Imports"
   ]
  },
  {
   "cell_type": "code",
   "execution_count": null,
   "metadata": {},
   "outputs": [],
   "source": [
    "# Colab-specific setup (uncomment if using Colab)\n",
    "# from google.colab import drive\n",
    "# drive.mount('/content/drive')\n",
    "# %cd /content/drive/Shareddrives/CS231N/chestxray-classification"
   ]
  },
  {
   "cell_type": "code",
   "execution_count": null,
   "metadata": {},
   "outputs": [],
   "source": [
    "# Install dependencies (uncomment if needed)\n",
    "# !pip install torchxrayvision python-dotenv scikit-learn matplotlib tqdm --quiet"
   ]
  },
  {
   "cell_type": "code",
   "execution_count": null,
   "metadata": {},
   "outputs": [],
   "source": [
    "# Standard imports\n",
    "import os\n",
    "import sys\n",
    "import logging\n",
    "import numpy as np\n",
    "import pandas as pd\n",
    "import matplotlib.pyplot as plt\n",
    "from tqdm import tqdm\n",
    "import torch\n",
    "import torchxrayvision as xrv\n",
    "from PIL import Image\n",
    "\n",
    "# Add the parent directory to path (if running in notebooks/)\n",
    "sys.path.append('..')"
   ]
  },
  {
   "cell_type": "code",
   "execution_count": null,
   "metadata": {},
   "outputs": [],
   "source": [
    "# Import custom modules\n",
    "from utils.config import Config\n",
    "from utils.data_utils import load_and_prepare_data\n",
    "from utils.inference import run_inference\n",
    "from models.xray_models import load_models\n",
    "from evaluation.metrics import evaluate_predictions\n",
    "from evaluation.visualization import plot_results, plot_roc_curves, plot_pr_curves"
   ]
  },
  {
   "cell_type": "code",
   "execution_count": null,
   "metadata": {},
   "outputs": [],
   "source": [
    "# Setup logging\n",
    "logging.basicConfig(\n",
    "    level=logging.INFO,\n",
    "    format=\"%(asctime)s - %(levelname)s - %(name)s - %(message)s\",\n",
    "    datefmt=\"%Y-%m-%d %H:%M:%S\",\n",
    ")\n",
    "logger = logging.getLogger(\"xray_evaluation\")"
   ]
  },
  {
   "cell_type": "markdown",
   "metadata": {},
   "source": [
    "## Configuration"
   ]
  },
  {
   "cell_type": "code",
   "execution_count": null,
   "metadata": {},
   "outputs": [],
   "source": [
    "# Check if paths are set correctly\n",
    "print(f\"Data path: {Config.data_path}\")\n",
    "print(f\"Image path: {Config.image_path}\")\n",
    "print(f\"CSV path: {Config.csv_path}\")\n",
    "print(f\"Output path: {Config.output_path}\")\n",
    "print(f\"Using device: {Config.device}\")\n",
    "print(f\"Target labels: {Config.target_labels}\")"
   ]
  },
  {
   "cell_type": "code",
   "execution_count": null,
   "metadata": {},
   "outputs": [],
   "source": [
    "# Update paths if needed\n",
    "# Config.data_path = \"/path/to/data\"\n",
    "# Config.image_path = os.path.join(Config.data_path, \"images\")\n",
    "# Config.csv_path = os.path.join(Config.data_path, \"Data_Entry_2017_v2020.csv\")\n",
    "\n",
    "# Create output directory\n",
    "os.makedirs(Config.output_path, exist_ok=True)"
   ]
  },
  {
   "cell_type": "markdown",
   "metadata": {},
   "source": [
    "## Load Models"
   ]
  },
  {
   "cell_type": "code",
   "execution_count": null,
   "metadata": {},
   "outputs": [],
   "source": [
    "# List available models\n",
    "print(\"Available pretrained models:\")\n",
    "for model_name in xrv.models.model_urls.keys():\n",
    "    print(f\"- {model_name}\")"
   ]
  },
  {
   "cell_type": "code",
   "execution_count": null,
   "metadata": {},
   "outputs": [],
   "source": [
    "# Load models\n",
    "model_mimic, model_chex, pathologies = load_models(Config.device)"
   ]
  },
  {
   "cell_type": "code",
   "execution_count": null,
   "metadata": {},
   "outputs": [],
   "source": [
    "# Display pathologies\n",
    "print(\"\\nSupported pathologies:\")\n",
    "for i, pathology in enumerate(pathologies):\n",
    "    print(f\"{i}: {pathology}\")\n",
    "\n",
    "# Highlight target pathologies\n",
    "print(\"\\nTarget pathologies:\")\n",
    "for label in Config.target_labels:\n",
    "    idx = pathologies.index(label)\n",
    "    print(f\"{idx}: {label}\")"
   ]
  },
  {
   "cell_type": "markdown",
   "metadata": {},
   "source": [
    "## Load and Prepare Data"
   ]
  },
  {
   "cell_type": "code",
   "execution_count": null,
   "metadata": {},
   "outputs": [],
   "source": [
    "# Load and prepare data\n",
    "test_df, label_indices = load_and_prepare_data(Config, pathologies)"
   ]
  },
  {
   "cell_type": "code",
   "execution_count": null,
   "metadata": {},
   "outputs": [],
   "source": [
    "# Display dataset composition\n",
    "print(\"\\nDataset Composition:\")\n",
    "for label in Config.target_labels:\n",
    "    count = test_df[label].sum()\n",
    "    print(f\"{label}: {count} positive samples\")\n",
    "\n",
    "# Display negative cases\n",
    "negative_count = (test_df[Config.target_labels].sum(axis=1) == 0).sum()\n",
    "print(f\"No target diseases: {negative_count} samples\")"
   ]
  },
  {
   "cell_type": "code",
   "execution_count": null,
   "metadata": {},
   "outputs": [],
   "source": [
    "# Visualize class distribution\n",
    "plt.figure(figsize=(10, 5))\n",
    "test_df[Config.target_labels].sum().plot(kind=\"bar\", color=\"lightgreen\")\n",
    "plt.title(\"Positive Case Count per Disease\")\n",
    "plt.ylabel(\"Count\")\n",
    "plt.grid(axis='y', alpha=0.3)\n",
    "plt.tight_layout()\n",
    "plt.show()"
   ]
  },
  {
   "cell_type": "markdown",
   "metadata": {},
   "source": [
    "## Visualize Sample Images"
   ]
  },
  {
   "cell_type": "code",
   "execution_count": null,
   "metadata": {},
   "outputs": [],
   "source": [
    "# Function to display sample X-ray images\n",
    "def display_sample_images(test_df, image_path, num_samples=3):\n",
    "    \"\"\"Display sample X-ray images for each disease category\"\"\"\n",
    "    fig, axes = plt.subplots(len(Config.target_labels) + 1, num_samples, \n",
    "                            figsize=(num_samples * 4, (len(Config.target_labels) + 1) * 4))\n",
    "    \n",
    "    # For each disease, show samples\n",
    "    for i, disease in enumerate(Config.target_labels):\n",
    "        disease_samples = test_df[test_df[disease] == 1].sample(num_samples)\n",
    "        \n",
    "        for j, (_, row) in enumerate(disease_samples.iterrows()):\n",
    "            img_file = os.path.join(image_path, row[\"Image Index\"])\n",
    "            img = Image.open(img_file).convert('L')\n",
    "            axes[i, j].imshow(img, cmap='gray')\n",
    "            axes[i, j].set_title(f\"{disease}\\n{row['Image Index']}\")\n",
    "            axes[i, j].axis('off')\n",
    "    \n",
    "    # Show negative samples (no target disease)\n",
    "    negative_samples = test_df[(test_df[Config.target_labels] == 0).all(axis=1)].sample(num_samples)\n",
    "    \n",
    "    for j, (_, row) in enumerate(negative_samples.iterrows()):\n",
    "        img_file = os.path.join(image_path, row[\"Image Index\"])\n",
    "        img = Image.open(img_file).convert('L')\n",
    "        axes[-1, j].imshow(img, cmap='gray')\n",
    "        axes[-1, j].set_title(f\"No Target Disease\\n{row['Image Index']}\")\n",
    "        axes[-1, j].axis('off')\n",
    "    \n",
    "    plt.tight_layout()\n",
    "    plt.show()"
   ]
  },
  {
   "cell_type": "code",
   "execution_count": null,
   "metadata": {},
   "outputs": [],
   "source": [
    "# Display sample images\n",
    "display_sample_images(test_df, Config.image_path, num_samples=3)"
   ]
  },
  {
   "cell_type": "markdown",
   "metadata": {},
   "source": [
    "## Run Inference"
   ]
  },
  {
   "cell_type": "code",
   "execution_count": null,
   "metadata": {},
   "outputs": [],
   "source": [
    "# Run inference\n",
    "y_true, y_pred = run_inference(test_df, model_mimic, model_chex, label_indices, Config)"
   ]
  },
  {
   "cell_type": "markdown",
   "metadata": {},
   "source": [
    "## Evaluate Results"
   ]
  },
  {
   "cell_type": "code",
   "execution_count": null,
   "metadata": {},
   "outputs": [],
   "source": [
    "# Evaluate predictions\n",
    "results_df = evaluate_predictions(y_true, y_pred, Config.target_labels, Config.output_path)"
   ]
  },
  {
   "cell_type": "code",
   "execution_count": null,
   "metadata": {},
   "outputs": [],
   "source": [
    "# Display results dataframe\n",
    "results_df"
   ]
  },
  {
   "cell_type": "markdown",
   "metadata": {},
   "source": [
    "## Visualize Results"
   ]
  },
  {
   "cell_type": "code",
   "execution_count": null,
   "metadata": {},
   "outputs": [],
   "source": [
    "# Plot summary results\n",
    "plot_results(results_df, test_df, Config.target_labels, Config.output_path)"
   ]
  },
  {
   "cell_type": "code",
   "execution_count": null,
   "metadata": {},
   "outputs": [],
   "source": [
    "# Plot ROC curves\n",
    "plot_roc_curves(y_true, y_pred, Config.target_labels, Config.output_path)"
   ]
  },
  {
   "cell_type": "code",
   "execution_count": null,
   "metadata": {},
   "outputs": [],
   "source": [
    "# Plot Precision-Recall curves\n",
    "plot_pr_curves(y_true, y_pred, Config.target_labels, Config.output_path)"
   ]
  },
  {
   "cell_type": "markdown",
   "metadata": {},
   "source": [
    "## Conclusion\n",
    "\n",
    "Summary of findings and next steps."
   ]
  }
 ],
 "metadata": {
  "kernelspec": {
   "display_name": "Python 3",
   "language": "python",
   "name": "python3"
  },
  "language_info": {
   "codemirror_mode": {
    "name": "ipython",
    "version": 3
   },
   "file_extension": ".py",
   "mimetype": "text/x-python",
   "name": "python",
   "nbconvert_exporter": "python",
   "pygments_lexer": "ipython3",
   "version": "3.8.10"
  }
 },
 "nbformat": 4,
 "nbformat_minor": 4
}
